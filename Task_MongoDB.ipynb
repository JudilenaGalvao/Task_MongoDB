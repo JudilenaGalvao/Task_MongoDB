{
  "nbformat": 4,
  "nbformat_minor": 0,
  "metadata": {
    "colab": {
      "provenance": []
    },
    "kernelspec": {
      "name": "python3",
      "display_name": "Python 3"
    },
    "language_info": {
      "name": "python"
    }
  },
  "cells": [
    {
      "cell_type": "markdown",
      "source": [
        "#**Lista de Exercicios**\n",
        "\n",
        "---\n",
        "\n"
      ],
      "metadata": {
        "id": "SZ9rVkGwao_N"
      }
    },
    {
      "cell_type": "markdown",
      "source": [
        "Lista feita no MongoDB Compass\n",
        "\n"
      ],
      "metadata": {
        "id": "dLyvTxvgigxX"
      }
    },
    {
      "cell_type": "markdown",
      "source": [
        "###Questão A"
      ],
      "metadata": {
        "id": "-kqksGgUdKl4"
      }
    },
    {
      "cell_type": "markdown",
      "source": [
        "Exibir todos os documentos da coleção restaurantes\n",
        "\n",
        "\n",
        "\n"
      ],
      "metadata": {
        "id": "ED0gHX1DdakY"
      }
    },
    {
      "cell_type": "code",
      "source": [
        "{}"
      ],
      "metadata": {
        "id": "4Wk-9HT-dP7Q"
      },
      "execution_count": 51,
      "outputs": []
    },
    {
      "cell_type": "markdown",
      "source": [
        "###Questão B"
      ],
      "metadata": {
        "id": "P4KPTVqnd77p"
      }
    },
    {
      "cell_type": "markdown",
      "source": [
        "Exibir chaves restaurant_id, name, borough e cuisine"
      ],
      "metadata": {
        "id": "4-pNZU-G5jev"
      }
    },
    {
      "cell_type": "code",
      "source": [
        "{\"restaurant_id\" : 1,\"name\":1,\"borough\":1,\"cuisine\" :1}"
      ],
      "metadata": {
        "id": "lexDAyLrLcau"
      },
      "execution_count": null,
      "outputs": []
    },
    {
      "cell_type": "markdown",
      "source": [
        "###Questão C"
      ],
      "metadata": {
        "id": "iKxgqSOtLftv"
      }
    },
    {
      "cell_type": "markdown",
      "source": [
        "Similar ao anterior, mas remover da exibição a chave _id"
      ],
      "metadata": {
        "id": "dx0JnMzRLlUu"
      }
    },
    {
      "cell_type": "code",
      "source": [
        "{\"restaurant_id\": 1, \"name\": 1, \"borough\": 1, \"cuisine\": 1, \"_id\": 0}"
      ],
      "metadata": {
        "id": "4Yf-x1r6Li_0"
      },
      "execution_count": null,
      "outputs": []
    },
    {
      "cell_type": "markdown",
      "source": [
        "###Questão D"
      ],
      "metadata": {
        "id": "7ZuIszf9MGx9"
      }
    },
    {
      "cell_type": "markdown",
      "source": [
        "Exibir restaurantes no bairro Bronx"
      ],
      "metadata": {
        "id": "rR47V0pxMJQ7"
      }
    },
    {
      "cell_type": "code",
      "source": [
        "{\"borough\": \"Bronx\"}"
      ],
      "metadata": {
        "id": "TsWakOmpMKBn"
      },
      "execution_count": null,
      "outputs": []
    },
    {
      "cell_type": "markdown",
      "source": [
        "###Questão E"
      ],
      "metadata": {
        "id": "EHHMag_-NCuD"
      }
    },
    {
      "cell_type": "markdown",
      "source": [
        "Exibir 5 restaurantes no bairro Bronx"
      ],
      "metadata": {
        "id": "69FYoxU2NFt4"
      }
    },
    {
      "cell_type": "markdown",
      "source": [
        "limit: limita a quantidade da busca."
      ],
      "metadata": {
        "id": "6sw_EF2lki0C"
      }
    },
    {
      "cell_type": "markdown",
      "source": [
        "No mongodb compass tem uma janela chamada limit, nela foi colocada o valor 5."
      ],
      "metadata": {
        "id": "9uDEpwVnPWH5"
      }
    },
    {
      "cell_type": "code",
      "source": [
        "{\"borough\": \"Bronx\"}"
      ],
      "metadata": {
        "id": "fO7DI7OoNSqp"
      },
      "execution_count": null,
      "outputs": []
    },
    {
      "cell_type": "markdown",
      "source": [
        "###Questão F"
      ],
      "metadata": {
        "id": "-85p6WGLRW72"
      }
    },
    {
      "cell_type": "markdown",
      "source": [
        "Exibir os próximos 5 restaurantes no bairro Bronx, após ter pulado os 5 primeiros"
      ],
      "metadata": {
        "id": "0K7CG9iIRZWU"
      }
    },
    {
      "cell_type": "markdown",
      "source": [
        "skip: pula as informações"
      ],
      "metadata": {
        "id": "n4lI8SyikvSV"
      }
    },
    {
      "cell_type": "markdown",
      "source": [
        "Foi atribuido o valor 5 as janelas skip e limit\n",
        "\n",
        "> Skip = 5 --> pula os 5 primeiros.\n",
        "\n",
        "> limit = 5 --> limite de 5 informações buscadas no banco.\n",
        "\n",
        "\n",
        "\n",
        "\n",
        "\n"
      ],
      "metadata": {
        "id": "4T_47r43SPc8"
      }
    },
    {
      "cell_type": "code",
      "source": [
        "{\"borough\": \"Bronx\"}"
      ],
      "metadata": {
        "id": "swnXSgyPSCiA"
      },
      "execution_count": null,
      "outputs": []
    },
    {
      "cell_type": "markdown",
      "source": [
        "###Questão G"
      ],
      "metadata": {
        "id": "BPN7Mcx6S-LF"
      }
    },
    {
      "cell_type": "markdown",
      "source": [
        "Exibir restaurantes com score > 90"
      ],
      "metadata": {
        "id": "ZqCJIxIGTA6k"
      }
    },
    {
      "cell_type": "code",
      "source": [
        "{\"grades.score\": { $gt: 90 }}"
      ],
      "metadata": {
        "id": "pMFrn8LqTEDu"
      },
      "execution_count": null,
      "outputs": []
    },
    {
      "cell_type": "markdown",
      "source": [
        "###Questão H"
      ],
      "metadata": {
        "id": "1GMqGHpQUV4C"
      }
    },
    {
      "cell_type": "markdown",
      "source": [
        "Exibir restaurantes com score entre 80 e 100, inclusive"
      ],
      "metadata": {
        "id": "SQ_rIBKbUjwN"
      }
    },
    {
      "cell_type": "code",
      "source": [
        "{\"grades.score\": { $gte: 80, $lte: 100 }}"
      ],
      "metadata": {
        "id": "05nOtJE-U2qU"
      },
      "execution_count": null,
      "outputs": []
    },
    {
      "cell_type": "markdown",
      "source": [
        "###Questão I"
      ],
      "metadata": {
        "id": "jVBVLKUKVDOq"
      }
    },
    {
      "cell_type": "markdown",
      "source": [
        "Explique o critério de busca do comando abaixo:"
      ],
      "metadata": {
        "id": "fKweVkdPVGiT"
      }
    },
    {
      "cell_type": "markdown",
      "source": [
        "**Resposta:** Ele vai no banco e busca todas as cozinhas que não forem Americanas com as pontuações maiores que 70 e com as coordernadas menores que -65.754168.\n",
        "\n"
      ],
      "metadata": {
        "id": "ecDrdXQYVKN6"
      }
    },
    {
      "cell_type": "markdown",
      "source": [
        "###Questão J"
      ],
      "metadata": {
        "id": "Bww-5dNeb1zq"
      }
    },
    {
      "cell_type": "markdown",
      "source": [
        "Exibir restaurantes que não preparam cozinha americana e tiveram grade point\n",
        "A que não estão no Brooklin. Exibir resultado com a cozinha ordenada\n",
        "decrescente"
      ],
      "metadata": {
        "id": "WlhbUm7ub3xs"
      }
    },
    {
      "cell_type": "code",
      "source": [
        "{\"cuisine\": { \"$ne\": \"American\" },\n",
        " \"grades\": { \"$exists\": true, \"$not\": { \"$size\": 0 } },\n",
        " \"borough\": { \"$ne\": \"Brooklyn\" }}"
      ],
      "metadata": {
        "id": "b2JUhvYtdQxO"
      },
      "execution_count": null,
      "outputs": []
    },
    {
      "cell_type": "markdown",
      "source": [
        "Em sort é colocado: {\"cuisine\": -1} para ordenar em ordem decrescente"
      ],
      "metadata": {
        "id": "2tZGB1wgdZql"
      }
    },
    {
      "cell_type": "code",
      "source": [
        "{\"cuisine\": -1}"
      ],
      "metadata": {
        "id": "mYlf21OhdiWW"
      },
      "execution_count": null,
      "outputs": []
    },
    {
      "cell_type": "markdown",
      "source": [
        "###Questão K"
      ],
      "metadata": {
        "id": "5CMyAkShdyVI"
      }
    },
    {
      "cell_type": "markdown",
      "source": [
        "Exibir restaurantes com ‘Wil’ nas três primeiras letras do nome"
      ],
      "metadata": {
        "id": "Dbggi6xrd6WQ"
      }
    },
    {
      "cell_type": "code",
      "source": [
        "{\"name\": { $regex: /^Wil/i }}"
      ],
      "metadata": {
        "id": "ubg3Nuu_d9OS"
      },
      "execution_count": null,
      "outputs": []
    },
    {
      "cell_type": "markdown",
      "source": [
        "###Questão L"
      ],
      "metadata": {
        "id": "7N1RLYroeSTu"
      }
    },
    {
      "cell_type": "markdown",
      "source": [
        "Exibir restaurantes com ‘ces’ nas três últimas letras do nome"
      ],
      "metadata": {
        "id": "mQRJQZK9edZ_"
      }
    },
    {
      "cell_type": "code",
      "source": [
        "{\"name\": { \"$regex\": /ces$/i }}"
      ],
      "metadata": {
        "id": "gYC292bFerhZ"
      },
      "execution_count": null,
      "outputs": []
    },
    {
      "cell_type": "markdown",
      "source": [
        "###Questão M"
      ],
      "metadata": {
        "id": "zUGTlzphe9qF"
      }
    },
    {
      "cell_type": "markdown",
      "source": [
        "Exibir restaurantes com ‘Reg’ em algum lugar do nome"
      ],
      "metadata": {
        "id": "BxT_vNoOe_up"
      }
    },
    {
      "cell_type": "code",
      "source": [
        "{\"name\": { $regex: /Reg/i }}"
      ],
      "metadata": {
        "id": "JeGtolaIfAZG"
      },
      "execution_count": null,
      "outputs": []
    },
    {
      "cell_type": "markdown",
      "source": [
        "###Questão N"
      ],
      "metadata": {
        "id": "PBFbxfqsfO-B"
      }
    },
    {
      "cell_type": "markdown",
      "source": [
        "Exibir restaurantes no Bronx que preparem ou cozinha americana ou chinesa"
      ],
      "metadata": {
        "id": "zJ2-xCUwfR1S"
      }
    },
    {
      "cell_type": "code",
      "source": [
        "{\"borough\": \"Bronx\", \"cuisine\": { \"$in\": [\"American\", \"Chinese\"] }}"
      ],
      "metadata": {
        "id": "8U3uu3zagHGO"
      },
      "execution_count": null,
      "outputs": []
    },
    {
      "cell_type": "markdown",
      "source": [
        "###Questão O"
      ],
      "metadata": {
        "id": "A8boui5zggUW"
      }
    },
    {
      "cell_type": "markdown",
      "source": [
        "Exibir restaurantes por nome de cozinha em ordem alfabética ascendente e, para\n",
        "esta mesma cozinha, o bairro do restaurante em ordem descendente"
      ],
      "metadata": {
        "id": "bMuz_P9Mgi3n"
      }
    },
    {
      "cell_type": "markdown",
      "source": [
        "Em sort é colocado: { \"cuisine\": 1, \"borough\": -1 } para os nomes das cozinhas ficarem em ordem alfabética ascendente e com os bairros do restaurante na ordem descrescente."
      ],
      "metadata": {
        "id": "b5a_GI1RhHB5"
      }
    },
    {
      "cell_type": "code",
      "source": [
        "{\"cuisine\": 1, \"borough\": -1}"
      ],
      "metadata": {
        "id": "TI5qCyKwhFHh"
      },
      "execution_count": null,
      "outputs": []
    },
    {
      "cell_type": "markdown",
      "source": [
        "###Questão P"
      ],
      "metadata": {
        "id": "SHd0MvLnh0dK"
      }
    },
    {
      "cell_type": "markdown",
      "source": [
        "Exibir restaurantes onde a chave endereço da cozinha existe"
      ],
      "metadata": {
        "id": "siHbvM-9h5BE"
      }
    },
    {
      "cell_type": "code",
      "source": [
        "{\"address\": { \"$exists\": true }}"
      ],
      "metadata": {
        "id": "K_HzozUfiEoi"
      },
      "execution_count": null,
      "outputs": []
    }
  ]
}